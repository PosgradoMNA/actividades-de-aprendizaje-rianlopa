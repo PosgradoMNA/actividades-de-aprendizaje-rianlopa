{
  "nbformat": 4,
  "nbformat_minor": 0,
  "metadata": {
    "colab": {
      "provenance": []
    },
    "kernelspec": {
      "name": "python3",
      "display_name": "Python 3"
    },
    "language_info": {
      "name": "python"
    }
  },
  "cells": [
    {
      "cell_type": "code",
      "execution_count": 27,
      "metadata": {
        "colab": {
          "base_uri": "https://localhost:8080/"
        },
        "id": "rWvrt7TEbZkp",
        "outputId": "6f27dbab-e855-4eea-d5f2-15cd583d413d"
      },
      "outputs": [
        {
          "output_type": "stream",
          "name": "stdout",
          "text": [
            "10\n",
            "9\n",
            "(6, 5, 10)\n",
            "[1, 2, 3, 4, 5]\n",
            "rock\n",
            "('a', 'b')\n",
            "[('a', 'b')]\n",
            "['Michael Jackson', 1, 3, ('a', 'b'), 1, 3]\n",
            "['Michael Jackson', 1, 3, ('a', 'b'), 1, 3, 1]\n",
            "['Michael Jackson', 1, 3, ('a', 'b'), 1, 3, 1, 2]\n",
            "['Michael Jackson', 1, 3, ('a', 'b'), 1, 3, 1]\n",
            "['1', '2', '3', '4', '5']\n"
          ]
        }
      ],
      "source": [
        "#Tuples and Lists\n",
        "\n",
        "#Tuples: You use ()\n",
        "\n",
        "ratings = (10, 9, 6, 5, 10, 8, 9, 6, 2)\n",
        "\n",
        "print(ratings[-5])\n",
        "print(ratings[1])\n",
        "\n",
        "#Slice a tuple\n",
        "print(ratings[2:5])\n",
        "\n",
        "#Tuples are immutable, so you cant:\n",
        "#ratings[3] = 10\n",
        "#But you can:\n",
        "ratings = (1,5,4,3,2)\n",
        "\n",
        "ratingsSorted = sorted(ratings)\n",
        "print(ratingsSorted)\n",
        "\n",
        "#Nesting\n",
        "NT = (1,2,(\"pop\",\"rock\"),(3,4),(\"Disco\",(1,2)))\n",
        "print(NT[2][1])\n",
        "\n",
        "\n",
        "#Lists\n",
        "\n",
        "L = [\"Michael Jackson\", 1, 3, (\"a\", \"b\")]\n",
        "print(L[3])\n",
        "print(L[3:len(L)])\n",
        "\n",
        "L2 = L + [1,3]\n",
        "print(L2)\n",
        "\n",
        "#Lists are mutable\n",
        "#Extend is used to add an array\n",
        "L2.extend([1])\n",
        "print(L2)\n",
        "L2.append(2)\n",
        "print(L2)\n",
        "del(L2[len(L2)-1])\n",
        "print(L2)\n",
        "\n",
        "#Split\n",
        "a = \"1,2,3,4,5\"\n",
        "print(a.split(','))\n",
        "\n",
        "#Clone\n",
        "a = [1,2,3]\n",
        "b = a[:]\n",
        "#help(a)"
      ]
    },
    {
      "cell_type": "code",
      "source": [
        "#Sets (only have unique elements)\n",
        "\n",
        "Set1 = {1,2,3,4,1,3,4,5}\n",
        "print(Set1)\n",
        "\n",
        "lista = [1,1,1,1,1,2]\n",
        "lista = set(lista)\n",
        "print(lista)\n",
        "\n",
        "#Set operations\n",
        "a = {1,2,3}\n",
        "a.add(4)\n",
        "a.add(1)\n",
        "print(a)\n",
        "a.remove(3)\n",
        "print(a)\n",
        "print(1 in a)\n",
        "print(3 in a)\n",
        "\n",
        "albumSet1 = {\"Blurryface\", \"Regional at best\"}\n",
        "albumSet2 = {\"Trench\", \"Scale and Icy\", \"Blurryface\"}\n",
        "\n",
        "#Get the intersection of 2 sets\n",
        "print(albumSet1 & albumSet2)\n",
        "\n",
        "#Get the union of 2 sets\n",
        "print(albumSet1.union(albumSet2))\n",
        "print(albumSet1.issubset(albumSet2))"
      ],
      "metadata": {
        "colab": {
          "base_uri": "https://localhost:8080/"
        },
        "id": "THntBt9igqbv",
        "outputId": "c77cd0ed-e195-4db5-cdc2-569faabde2f2"
      },
      "execution_count": 36,
      "outputs": [
        {
          "output_type": "stream",
          "name": "stdout",
          "text": [
            "{1, 2, 3, 4, 5}\n",
            "{1, 2}\n",
            "{1, 2, 3, 4}\n",
            "{1, 2, 4}\n",
            "True\n",
            "False\n",
            "{'Blurryface'}\n",
            "{'Blurryface', 'Scale and Icy', 'Regional at best', 'Trench'}\n",
            "False\n"
          ]
        }
      ]
    },
    {
      "cell_type": "markdown",
      "source": [
        "#Quiz on sets\n",
        "\n",
        "Convert the list ['rap','house','electronic music', 'rap'] to a set:\n",
        "\n",
        "# Write your code below and press Shift+Enter to execute\n",
        "a = ['rap','house','electronic music', 'rap']\n",
        "set(a)\n",
        "{'electronic music', 'house', 'rap'}\n",
        "Click here for the solution\n",
        "Consider the list A = [1, 2, 2, 1] and set B = set([1, 2, 2, 1]), does sum(A) == sum(B)?\n",
        "\n",
        "#Is not the same\n",
        "# Write your code below and press Shift+Enter to execute\n",
        "A = [1, 2, 2, 1]\n",
        "B = set([1, 2, 2, 1])\n",
        "​\n",
        "print(sum(A))\n",
        "print(sum(B))\n",
        "​\n",
        "#Is not the same\n",
        "6\n",
        "3\n",
        "Click here for the solution\n",
        "Create a new set album_set3 that is the union of album_set1 and album_set2:\n",
        "\n",
        "3)\n",
        "# Write your code below and press Shift+Enter to execute\n",
        "​\n",
        "album_set1 = set([\"Thriller\", 'AC/DC', 'Back in Black'])\n",
        "album_set2 = set([ \"AC/DC\", \"Back in Black\", \"The Dark Side of the Moon\"])\n",
        "album_set3 = album_set1.union(album_set2)\n",
        "​\n",
        "print(album_set3)\n",
        "{'AC/DC', 'Back in Black', 'The Dark Side of the Moon', 'Thriller'}\n",
        "Click here for the solution\n",
        "Find out if album_set1 is a subset of album_set3:\n",
        "\n",
        "1\n",
        "# Write your code below and press Shift+Enter to execute\n",
        "album_set1.issubset(album_set3)\n",
        "True\n",
        "\n",
        "\n",
        "\n",
        "\n",
        "\n",
        "\n",
        "Click here for the solution"
      ],
      "metadata": {
        "id": "EsgN1Qf-jw1K"
      }
    },
    {
      "cell_type": "code",
      "source": [
        "#Dictionaries (key, value)\n",
        "\n",
        "dic = {\"key1\": 1, \"key2\": 2, \"key3\": 3}\n",
        "print(dic[\"key2\"])\n",
        "\n",
        "#add\n",
        "dic['key4'] = 4\n",
        "print(dic)\n",
        "\n",
        "#del\n",
        "del(dic['key2'])\n",
        "print(dic)\n",
        "\n",
        "'Key3' in dic"
      ],
      "metadata": {
        "colab": {
          "base_uri": "https://localhost:8080/"
        },
        "id": "nKOFEQ4nj0R4",
        "outputId": "42f85f3e-6c8f-4160-9079-92dbc147dfae"
      },
      "execution_count": 39,
      "outputs": [
        {
          "output_type": "stream",
          "name": "stdout",
          "text": [
            "2\n",
            "{'key1': 1, 'key2': 2, 'key3': 3, 'key4': 4}\n",
            "{'key1': 1, 'key3': 3, 'key4': 4}\n"
          ]
        },
        {
          "output_type": "execute_result",
          "data": {
            "text/plain": [
              "False"
            ]
          },
          "metadata": {},
          "execution_count": 39
        }
      ]
    },
    {
      "cell_type": "markdown",
      "source": [
        "#Quiz on dictionaries\n",
        "\n",
        "# Question sample dictionary\n",
        "​\n",
        "soundtrack_dic = {\"The Bodyguard\":\"1992\", \"Saturday Night Fever\":\"1977\"}\n",
        "soundtrack_dic \n",
        "{'The Bodyguard': '1992', 'Saturday Night Fever': '1977'}\n",
        "a) In the dictionary soundtrack_dic what are the keys ?\n",
        "\n",
        "keys()\n",
        "# Write your code below and press Shift+Enter to execute\n",
        "soundtrack_dic.keys()\n",
        "dict_keys(['The Bodyguard', 'Saturday Night Fever'])\n",
        "Click here for the solution\n",
        "b) In the dictionary soundtrack_dic what are the values ?\n",
        "\n",
        ".values()\n",
        "# Write your code below and press Shift+Enter to execute\n",
        "soundtrack_dic.values()\n",
        "dict_values(['1992', '1977'])\n",
        "Click here for the solution\n",
        "You will need this dictionary for the following questions:\n",
        "\n",
        "Thriller\n",
        "The Albums <b>Back in Black</b>, <b>The Bodyguard</b> and <b>Thriller</b> have the following music recording sales in millions 50, 50 and 65 respectively:\n",
        "​\n",
        "album_sales_dict\n",
        "a) Create a dictionary <code>album_sales_dict</code> where the keys are the album name and the sales in millions are the values.\n",
        "​\n",
        "album_sales_dict\n",
        "# Write your code below and press Shift+Enter to execute\n",
        "album_sales_dict = {\"Back in Black\": 50, \"The Bodyguard\": 50, \"Thriller\": 65}\n",
        "Click here for the solution\n",
        "b) Use the dictionary to find the total sales of Thriller:\n",
        "\n",
        "album_sales_dict\n",
        "# Write your code below and press Shift+Enter to execute\n",
        "album_sales_dict[\"Thriller\"]\n",
        "65\n",
        "Click here for the solution\n",
        "c) Find the names of the albums from the dictionary using the method keys():\n",
        "\n",
        ".keys()\n",
        "# Write your code below and press Shift+Enter to execute\n",
        "album_sales_dict.keys()\n",
        "dict_keys(['Back in Black', 'The Bodyguard', 'Thriller'])\n",
        "Click here for the solution\n",
        "d) Find the values of the recording sales from the dictionary using the method values:\n",
        "\n",
        "\n",
        "\n",
        "\n",
        "\n",
        "\n",
        "\n",
        ".values()\n",
        "# Write your code below and press Shift+Enter to execute\n",
        "album_sales_dict.values()\n",
        "dict_values([50, 50, 65])"
      ],
      "metadata": {
        "id": "g6Q9s319lxNU"
      }
    }
  ]
}