{
  "nbformat": 4,
  "nbformat_minor": 0,
  "metadata": {
    "colab": {
      "name": "assignment01.ipynb",
      "provenance": []
    },
    "kernelspec": {
      "name": "python3",
      "display_name": "Python 3"
    },
    "language_info": {
      "name": "python"
    }
  },
  "cells": [
    {
      "cell_type": "code",
      "execution_count": null,
      "metadata": {
        "id": "LzUSMM79NR9P",
        "outputId": "0e6cb421-1096-426a-b31a-f61d059def81",
        "colab": {
          "base_uri": "https://localhost:8080/"
        }
      },
      "outputs": [
        {
          "output_type": "stream",
          "name": "stdout",
          "text": [
            "assignment01 for GitJobish03 and edited in git, and 18\n"
          ]
        }
      ],
      "source": [
        "print('assignment01 for GitJobish03 and edited in git, and 18')"
      ]
    },
    {
      "cell_type": "code",
      "source": [
        "#This is a comment\n",
        "\n",
        "print(\"Hello Python 101\")"
      ],
      "metadata": {
        "id": "mxM_WppZPMFx",
        "colab": {
          "base_uri": "https://localhost:8080/"
        },
        "outputId": "f3b1c678-7d8d-4bbf-d205-00462086acea"
      },
      "execution_count": 1,
      "outputs": [
        {
          "output_type": "stream",
          "name": "stdout",
          "text": [
            "Hello Python 101\n"
          ]
        }
      ]
    },
    {
      "cell_type": "code",
      "source": [
        "integer = 11\n",
        "floatNumber = 23.22\n",
        "sentence = \"Hello python\"\n",
        "\n",
        "print(type(integer))\n",
        "print(type(floatNumber))\n",
        "print(type(sentence))\n",
        "print(type(True))"
      ],
      "metadata": {
        "colab": {
          "base_uri": "https://localhost:8080/"
        },
        "id": "LSvyiquYPG5G",
        "outputId": "eb642546-4ea3-4e14-ef6b-0b42e2bfb934"
      },
      "execution_count": 9,
      "outputs": [
        {
          "output_type": "stream",
          "name": "stdout",
          "text": [
            "<class 'int'>\n",
            "<class 'float'>\n",
            "<class 'str'>\n",
            "<class 'bool'>\n"
          ]
        }
      ]
    },
    {
      "cell_type": "code",
      "source": [
        "print(int(1.1))\n",
        "print(float(2))\n",
        "print(str(234))"
      ],
      "metadata": {
        "colab": {
          "base_uri": "https://localhost:8080/"
        },
        "id": "sEqjUF-8PrTu",
        "outputId": "3d97d008-8e6d-4e54-f198-38a4b9cbb1f9"
      },
      "execution_count": 8,
      "outputs": [
        {
          "output_type": "stream",
          "name": "stdout",
          "text": [
            "1\n",
            "2.0\n",
            "234\n"
          ]
        }
      ]
    },
    {
      "cell_type": "code",
      "source": [
        "#Expressions\n",
        "\n",
        "print(1+2+3+4+5+6)\n",
        "print(25/6)\n",
        "print(25//6)\n",
        "print(2*60+30)\n",
        "print(30+2*60)\n",
        "\n",
        "#Variables\n",
        "\n",
        "my_variable = 1\n",
        "print(my_variable)\n",
        "my_variable = 1000\n",
        "print(my_variable)\n",
        "\n",
        "x = 10 \n",
        "y = x/60\n",
        "\n",
        "print(y)\n",
        "\n",
        "\n",
        "total_min = 43 + 42 + 57\n",
        "total_hr = total_min / 60\n",
        "\n",
        "print(total_hr)"
      ],
      "metadata": {
        "colab": {
          "base_uri": "https://localhost:8080/"
        },
        "id": "LFYvNpS1P6Xh",
        "outputId": "87284356-2db1-45ee-e8b8-2f3a3f986cb3"
      },
      "execution_count": 18,
      "outputs": [
        {
          "output_type": "stream",
          "name": "stdout",
          "text": [
            "21\n",
            "4.166666666666667\n",
            "4\n",
            "150\n",
            "150\n",
            "1\n",
            "1000\n",
            "0.16666666666666666\n",
            "2.3666666666666667\n"
          ]
        }
      ]
    },
    {
      "cell_type": "code",
      "source": [
        "#Strings\n",
        "\n",
        "name = \"Michael Jackson\"\n",
        "\n",
        "print(name[4])\n",
        "print(name[-4])\n",
        "print(name[::2])\n",
        "print(len(name))\n",
        "\n",
        "concat = name + \"\\nIs the best\"\n",
        "\n",
        "print(concat)\n",
        "print(name.upper())\n",
        "print(concat.replace('Michael', 'Janet'))\n",
        "print(name.find('on'))"
      ],
      "metadata": {
        "colab": {
          "base_uri": "https://localhost:8080/"
        },
        "id": "rY9fm9FQYVju",
        "outputId": "80df82c2-d5d6-41d9-f71e-9d5c98d8f5d7"
      },
      "execution_count": 29,
      "outputs": [
        {
          "output_type": "stream",
          "name": "stdout",
          "text": [
            "a\n",
            "k\n",
            "McalJcsn\n",
            "15\n",
            "Michael Jackson\n",
            "Is the best\n",
            "MICHAEL JACKSON\n",
            "Janet Jackson\n",
            "Is the best\n",
            "13\n"
          ]
        }
      ]
    },
    {
      "cell_type": "code",
      "execution_count": null,
      "metadata": {
        "colab": {
          "base_uri": "https://localhost:8080/"
        },
        "id": "rWvrt7TEbZkp",
        "outputId": "6f27dbab-e855-4eea-d5f2-15cd583d413d"
      },
      "outputs": [
        {
          "output_type": "stream",
          "name": "stdout",
          "text": [
            "10\n",
            "9\n",
            "(6, 5, 10)\n",
            "[1, 2, 3, 4, 5]\n",
            "rock\n",
            "('a', 'b')\n",
            "[('a', 'b')]\n",
            "['Michael Jackson', 1, 3, ('a', 'b'), 1, 3]\n",
            "['Michael Jackson', 1, 3, ('a', 'b'), 1, 3, 1]\n",
            "['Michael Jackson', 1, 3, ('a', 'b'), 1, 3, 1, 2]\n",
            "['Michael Jackson', 1, 3, ('a', 'b'), 1, 3, 1]\n",
            "['1', '2', '3', '4', '5']\n"
          ]
        }
      ],
      "source": [
        "#Tuples and Lists\n",
        "\n",
        "#Tuples: You use ()\n",
        "\n",
        "ratings = (10, 9, 6, 5, 10, 8, 9, 6, 2)\n",
        "\n",
        "print(ratings[-5])\n",
        "print(ratings[1])\n",
        "\n",
        "#Slice a tuple\n",
        "print(ratings[2:5])\n",
        "\n",
        "#Tuples are immutable, so you cant:\n",
        "#ratings[3] = 10\n",
        "#But you can:\n",
        "ratings = (1,5,4,3,2)\n",
        "\n",
        "ratingsSorted = sorted(ratings)\n",
        "print(ratingsSorted)\n",
        "\n",
        "#Nesting\n",
        "NT = (1,2,(\"pop\",\"rock\"),(3,4),(\"Disco\",(1,2)))\n",
        "print(NT[2][1])\n",
        "\n",
        "\n",
        "#Lists\n",
        "\n",
        "L = [\"Michael Jackson\", 1, 3, (\"a\", \"b\")]\n",
        "print(L[3])\n",
        "print(L[3:len(L)])\n",
        "\n",
        "L2 = L + [1,3]\n",
        "print(L2)\n",
        "\n",
        "#Lists are mutable\n",
        "#Extend is used to add an array\n",
        "L2.extend([1])\n",
        "print(L2)\n",
        "L2.append(2)\n",
        "print(L2)\n",
        "del(L2[len(L2)-1])\n",
        "print(L2)\n",
        "\n",
        "#Split\n",
        "a = \"1,2,3,4,5\"\n",
        "print(a.split(','))\n",
        "\n",
        "#Clone\n",
        "a = [1,2,3]\n",
        "b = a[:]\n",
        "#help(a)"
      ]
    },
    {
      "cell_type": "code",
      "source": [
        "#Sets (only have unique elements)\n",
        "\n",
        "Set1 = {1,2,3,4,1,3,4,5}\n",
        "print(Set1)\n",
        "\n",
        "lista = [1,1,1,1,1,2]\n",
        "lista = set(lista)\n",
        "print(lista)\n",
        "\n",
        "#Set operations\n",
        "a = {1,2,3}\n",
        "a.add(4)\n",
        "a.add(1)\n",
        "print(a)\n",
        "a.remove(3)\n",
        "print(a)\n",
        "print(1 in a)\n",
        "print(3 in a)\n",
        "\n",
        "albumSet1 = {\"Blurryface\", \"Regional at best\"}\n",
        "albumSet2 = {\"Trench\", \"Scale and Icy\", \"Blurryface\"}\n",
        "\n",
        "#Get the intersection of 2 sets\n",
        "print(albumSet1 & albumSet2)\n",
        "\n",
        "#Get the union of 2 sets\n",
        "print(albumSet1.union(albumSet2))\n",
        "print(albumSet1.issubset(albumSet2))"
      ],
      "metadata": {
        "colab": {
          "base_uri": "https://localhost:8080/"
        },
        "id": "THntBt9igqbv",
        "outputId": "c77cd0ed-e195-4db5-cdc2-569faabde2f2"
      },
      "execution_count": null,
      "outputs": [
        {
          "output_type": "stream",
          "name": "stdout",
          "text": [
            "{1, 2, 3, 4, 5}\n",
            "{1, 2}\n",
            "{1, 2, 3, 4}\n",
            "{1, 2, 4}\n",
            "True\n",
            "False\n",
            "{'Blurryface'}\n",
            "{'Blurryface', 'Scale and Icy', 'Regional at best', 'Trench'}\n",
            "False\n"
          ]
        }
      ]
    },
    {
      "cell_type": "markdown",
      "source": [
        "#Quiz on sets\n",
        "\n",
        "Convert the list ['rap','house','electronic music', 'rap'] to a set:\n",
        "\n",
        "# Write your code below and press Shift+Enter to execute\n",
        "a = ['rap','house','electronic music', 'rap']\n",
        "set(a)\n",
        "{'electronic music', 'house', 'rap'}\n",
        "Click here for the solution\n",
        "Consider the list A = [1, 2, 2, 1] and set B = set([1, 2, 2, 1]), does sum(A) == sum(B)?\n",
        "\n",
        "#Is not the same\n",
        "# Write your code below and press Shift+Enter to execute\n",
        "A = [1, 2, 2, 1]\n",
        "B = set([1, 2, 2, 1])\n",
        "​\n",
        "print(sum(A))\n",
        "print(sum(B))\n",
        "​\n",
        "#Is not the same\n",
        "6\n",
        "3\n",
        "Click here for the solution\n",
        "Create a new set album_set3 that is the union of album_set1 and album_set2:\n",
        "\n",
        "3)\n",
        "# Write your code below and press Shift+Enter to execute\n",
        "​\n",
        "album_set1 = set([\"Thriller\", 'AC/DC', 'Back in Black'])\n",
        "album_set2 = set([ \"AC/DC\", \"Back in Black\", \"The Dark Side of the Moon\"])\n",
        "album_set3 = album_set1.union(album_set2)\n",
        "​\n",
        "print(album_set3)\n",
        "{'AC/DC', 'Back in Black', 'The Dark Side of the Moon', 'Thriller'}\n",
        "Click here for the solution\n",
        "Find out if album_set1 is a subset of album_set3:\n",
        "\n",
        "1\n",
        "# Write your code below and press Shift+Enter to execute\n",
        "album_set1.issubset(album_set3)\n",
        "True\n",
        "\n",
        "\n",
        "\n",
        "\n",
        "\n",
        "\n",
        "Click here for the solution"
      ],
      "metadata": {
        "id": "EsgN1Qf-jw1K"
      }
    },
    {
      "cell_type": "code",
      "source": [
        "#Dictionaries (key, value)\n",
        "\n",
        "dic = {\"key1\": 1, \"key2\": 2, \"key3\": 3}\n",
        "print(dic[\"key2\"])\n",
        "\n",
        "#add\n",
        "dic['key4'] = 4\n",
        "print(dic)\n",
        "\n",
        "#del\n",
        "del(dic['key2'])\n",
        "print(dic)\n",
        "\n",
        "'Key3' in dic"
      ],
      "metadata": {
        "colab": {
          "base_uri": "https://localhost:8080/"
        },
        "id": "nKOFEQ4nj0R4",
        "outputId": "42f85f3e-6c8f-4160-9079-92dbc147dfae"
      },
      "execution_count": null,
      "outputs": [
        {
          "output_type": "stream",
          "name": "stdout",
          "text": [
            "2\n",
            "{'key1': 1, 'key2': 2, 'key3': 3, 'key4': 4}\n",
            "{'key1': 1, 'key3': 3, 'key4': 4}\n"
          ]
        },
        {
          "output_type": "execute_result",
          "data": {
            "text/plain": [
              "False"
            ]
          },
          "metadata": {},
          "execution_count": 39
        }
      ]
    },
    {
      "cell_type": "markdown",
      "source": [
        "#Quiz on dictionaries\n",
        "\n",
        "# Question sample dictionary\n",
        "​\n",
        "soundtrack_dic = {\"The Bodyguard\":\"1992\", \"Saturday Night Fever\":\"1977\"}\n",
        "soundtrack_dic \n",
        "{'The Bodyguard': '1992', 'Saturday Night Fever': '1977'}\n",
        "a) In the dictionary soundtrack_dic what are the keys ?\n",
        "\n",
        "keys()\n",
        "# Write your code below and press Shift+Enter to execute\n",
        "soundtrack_dic.keys()\n",
        "dict_keys(['The Bodyguard', 'Saturday Night Fever'])\n",
        "Click here for the solution\n",
        "b) In the dictionary soundtrack_dic what are the values ?\n",
        "\n",
        ".values()\n",
        "# Write your code below and press Shift+Enter to execute\n",
        "soundtrack_dic.values()\n",
        "dict_values(['1992', '1977'])\n",
        "Click here for the solution\n",
        "You will need this dictionary for the following questions:\n",
        "\n",
        "Thriller\n",
        "The Albums <b>Back in Black</b>, <b>The Bodyguard</b> and <b>Thriller</b> have the following music recording sales in millions 50, 50 and 65 respectively:\n",
        "​\n",
        "album_sales_dict\n",
        "a) Create a dictionary <code>album_sales_dict</code> where the keys are the album name and the sales in millions are the values.\n",
        "​\n",
        "album_sales_dict\n",
        "# Write your code below and press Shift+Enter to execute\n",
        "album_sales_dict = {\"Back in Black\": 50, \"The Bodyguard\": 50, \"Thriller\": 65}\n",
        "Click here for the solution\n",
        "b) Use the dictionary to find the total sales of Thriller:\n",
        "\n",
        "album_sales_dict\n",
        "# Write your code below and press Shift+Enter to execute\n",
        "album_sales_dict[\"Thriller\"]\n",
        "65\n",
        "Click here for the solution\n",
        "c) Find the names of the albums from the dictionary using the method keys():\n",
        "\n",
        ".keys()\n",
        "# Write your code below and press Shift+Enter to execute\n",
        "album_sales_dict.keys()\n",
        "dict_keys(['Back in Black', 'The Bodyguard', 'Thriller'])\n",
        "Click here for the solution\n",
        "d) Find the values of the recording sales from the dictionary using the method values:\n",
        "\n",
        "\n",
        "\n",
        "\n",
        "\n",
        "\n",
        "\n",
        ".values()\n",
        "# Write your code below and press Shift+Enter to execute\n",
        "album_sales_dict.values()\n",
        "dict_values([50, 50, 65])"
      ],
      "metadata": {
        "id": "g6Q9s319lxNU"
      }
    },
    {
      "cell_type": "code",
      "execution_count": null,
      "metadata": {
        "colab": {
          "base_uri": "https://localhost:8080/"
        },
        "id": "IaEc9f18qqNw",
        "outputId": "1c06665c-8ddc-4293-c268-f4e9c2a21b3f"
      },
      "outputs": [
        {
          "output_type": "stream",
          "name": "stdout",
          "text": [
            "False\n",
            "True\n",
            "True\n",
            "go see pink floyd\n",
            "Move on\n",
            "Album made in 70s or 90s\n",
            "Album made in 80s\n"
          ]
        }
      ],
      "source": [
        "#Conditions and brnaching\n",
        "a = 6\n",
        "print(a == 7)\n",
        "print(a > 5)\n",
        "print(a != 5)\n",
        "\n",
        "age = 18\n",
        "if(age > 18):\n",
        "  print(\"you can enter\")\n",
        "elif(age == 18):\n",
        "  print(\"go see pink floyd\")\n",
        "else:\n",
        "  print(\"do not enter\")\n",
        "print(\"Move on\")\n",
        "\n",
        "ay = 1990\n",
        "if(ay < 1980 or ay > 1989):\n",
        "  print(\"Album made in 70s or 90s\")\n",
        "else:\n",
        "  print(\"Album made in 80s\")\n",
        "\n",
        "ay = 1983\n",
        "if(ay < 1979 and ay < 1990):\n",
        "  print(\"Album made in 70s or 90s\")\n",
        "else:\n",
        "  print(\"Album made in 80s\")\n",
        "\n"
      ]
    },
    {
      "cell_type": "markdown",
      "source": [
        "#Quiz on conditions \n",
        "\n",
        "Write an if statement to determine if an album had a rating greater than 8. Test it using the rating for the album “Back in Black” that had a rating of 8.5. If the statement is true print \"This album is Amazing!\"\n",
        "\n",
        "albumRating = 8.5\n",
        "\n",
        "if(albumRating > 8):\n",
        "    print(\"This album is Amazing!\")\n",
        "# Write your code below and press Shift+Enter to execute\n",
        "albumRating = 8.5\n",
        "​\n",
        "if(albumRating > 8):\n",
        "    print(\"This album is Amazing!\")\n",
        "This album is Amazing!\n",
        "Click here for the solution\n",
        "Write an if-else statement that performs the following. If the rating is larger then eight print “this album is amazing”. If the rating is less than or equal to 8 print “this album is ok”.\n",
        "\n",
        "\"\n",
        "# Write your code below and press Shift+Enter to execute\n",
        "albumRating = 8.5\n",
        "​\n",
        "if(albumRating > 8):\n",
        "    print(\"This album is Amazing!\")\n",
        "else:\n",
        "    print(\"this album is ok\")\n",
        "This album is Amazing!\n",
        "Click here for the solution\n",
        "Write an if statement to determine if an album came out before 1980 or in the years: 1991 or 1993. If the condition is true print out the year the album came out.\n",
        "\n",
        "# Write your code below and press Shift+Enter to execute\n",
        "ay = 1980\n",
        "\n",
        "if ay < 1980 or ay == 1991 or ay == 1993:\n",
        "    print(ay)\n",
        "# Write your code below and press Shift+Enter to execute\n",
        "ay = 1980\n",
        "​\n",
        "if ay < 1980 or ay == 1991 or ay == 1993:\n",
        "    print(ay)\n",
        "Click here for the solution\n",
        "\n",
        "\n",
        "\n",
        "\n",
        "\n",
        "\n",
        "The last exercise!"
      ],
      "metadata": {
        "id": "gm3N46al39PO"
      }
    },
    {
      "cell_type": "code",
      "source": [
        "#Loops\n",
        "\n",
        "squares = [\"red\", \"yellow\", \"green\", \"purple\", \"blue\"]\n",
        "print(squares)\n",
        "\n",
        "for i in range(0,5):\n",
        "  squares[i] = \"white\"\n",
        "\n",
        "print(squares)\n",
        "\n",
        "squares = [\"red\", \"yellow\", \"green\", \"purple\", \"blue\"]\n",
        "i = 0\n",
        "while squares[i] != \"green\":\n",
        "  print(\"This square is not green\")\n",
        "  i = i + 1"
      ],
      "metadata": {
        "colab": {
          "base_uri": "https://localhost:8080/"
        },
        "id": "p4e6lxFE485a",
        "outputId": "02fa6a7c-a80b-434b-e20d-b4b1ee4a2e59"
      },
      "execution_count": null,
      "outputs": [
        {
          "output_type": "stream",
          "name": "stdout",
          "text": [
            "['red', 'yellow', 'green', 'purple', 'blue']\n",
            "['white', 'white', 'white', 'white', 'white']\n",
            "This square is not green\n",
            "This square is not green\n"
          ]
        }
      ]
    },
    {
      "cell_type": "markdown",
      "source": [
        "Quiz on loops\n",
        "\n",
        "Write a for loop the prints out all the element between -5 and 5 using the range function.\n",
        "\n",
        "5\n",
        "# Write your code below and press Shift+Enter to execute\n",
        "for i in range(-4,5):\n",
        "    print(i)\n",
        "-4\n",
        "-3\n",
        "-2\n",
        "-1\n",
        "0\n",
        "1\n",
        "2\n",
        "3\n",
        "4\n",
        "Click here for the solution\n",
        "for i in range(-4, 5):\n",
        "    print(i)\n",
        "    \n",
        "Print the elements of the following list: Genres=[ 'rock', 'R&B', 'Soundtrack', 'R&B', 'soul', 'pop'] Make sure you follow Python conventions.\n",
        "\n",
        "i\n",
        "# Write your code below and press Shift+Enter to execute\n",
        "Genres=[ 'rock', 'R&B', 'Soundtrack', 'R&B', 'soul', 'pop']\n",
        "​\n",
        "for i in Genres:\n",
        "    print(i)\n",
        "rock\n",
        "R&B\n",
        "Soundtrack\n",
        "R&B\n",
        "soul\n",
        "pop\n",
        "Click here for the solution\n",
        "Write a for loop that prints out the following list: squares=['red', 'yellow', 'green', 'purple', 'blue']\n",
        "\n",
        "print(i)\n",
        "# Write your code below and press Shift+Enter to execute\n",
        "squares=['red', 'yellow', 'green', 'purple', 'blue']\n",
        "​\n",
        "for i in squares:\n",
        "    print(i)\n",
        "red\n",
        "yellow\n",
        "green\n",
        "purple\n",
        "blue\n",
        "Click here for the solution\n",
        "Write a while loop to display the values of the Rating of an album playlist stored in the list PlayListRatings. If the score is less than 6, exit the loop. The list PlayListRatings is given by: PlayListRatings = [10, 9.5, 10, 8, 7.5, 5, 10, 10]\n",
        "\n",
        "i = i + 1\n",
        "# Write your code below and press Shift+Enter to execute\n",
        "PlayListRatings = [10, 9.5, 10, 8, 7.5, 5, 10, 10]\n",
        "i = 0\n",
        "while PlayListRatings[i] >= 6:\n",
        "    print(PlayListRatings[i])\n",
        "    i = i + 1\n",
        "10\n",
        "9.5\n",
        "10\n",
        "8\n",
        "7.5\n",
        "Click here for the solution\n",
        "Write a while loop to copy the strings 'orange' of the list squares to the list new_squares. Stop and exit the loop if the value on the list is not 'orange':\n",
        "\n",
        "# Write your code below and press Shift+Enter to execute\n",
        "\n",
        "squares = ['orange', 'orange', 'purple', 'blue ', 'orange']\n",
        "new_squares = []\n",
        "i = 0\n",
        "while squares[i] == 'orange':\n",
        "    new_squares.append(squares[i])\n",
        "    i = i + 1\n",
        "print(new_squares)\n",
        "# Write your code below and press Shift+Enter to execute\n",
        "​\n",
        "squares = ['orange', 'orange', 'purple', 'blue ', 'orange']\n",
        "new_squares = []\n",
        "i = 0\n",
        "while squares[i] == 'orange':\n",
        "    new_squares.append(squares[i])\n",
        "    i = i + 1\n",
        "print(new_squares)\n",
        "Click here for the solution\n",
        "\n",
        "\n",
        "\n",
        "\n",
        "\n",
        "\n",
        "The last exercise!"
      ],
      "metadata": {
        "id": "z43VO-tL6MmT"
      }
    },
    {
      "cell_type": "code",
      "source": [
        "#Functions\n",
        "\n",
        "def add1(a):\n",
        "  \"\"\"\n",
        "  Documentation\n",
        "  \"\"\"\n",
        "  b = a + 1\n",
        "  return b\n",
        "\n",
        "print(add1(5))\n",
        "print(add1(10))\n",
        "\n",
        "\n",
        "def mult(a,b):\n",
        "  c = a * b\n",
        "  return c\n",
        "\n",
        "print(mult(2,3))\n",
        "\n",
        "def greeting():\n",
        "  print(\"Hello\")\n",
        "\n",
        "greeting()\n",
        "\n",
        "def printList(lis):\n",
        "  for i in lis:\n",
        "    print(i)\n",
        "\n",
        "printList([1,2,3,4])\n"
      ],
      "metadata": {
        "colab": {
          "base_uri": "https://localhost:8080/"
        },
        "id": "Tt42Wtjc8BMX",
        "outputId": "2b881640-72c2-474c-d517-6cd4062b300e"
      },
      "execution_count": null,
      "outputs": [
        {
          "output_type": "stream",
          "name": "stdout",
          "text": [
            "6\n",
            "11\n",
            "6\n",
            "Hello\n",
            "1\n",
            "2\n",
            "3\n",
            "4\n"
          ]
        }
      ]
    },
    {
      "cell_type": "markdown",
      "source": [
        "#Quiz on functions\n",
        "\n",
        "Come up with a function that divides the first input by the second input:\n",
        "\n",
        "2\n",
        "# Write your code below and press Shift+Enter to execute\n",
        "def divide(a,b):\n",
        "    return a/b\n",
        "​\n",
        "print(divide(10,2))\n",
        "5.0\n",
        "Click here for the solution\n",
        "Use the function con for the following question.\n",
        "\n",
        "def con(a, b):\n",
        "    return(a + b)\n",
        "# Use the con function for the following question\n",
        "​\n",
        "def con(a, b):\n",
        "    return(a + b)\n",
        "Can the con function we defined before be used to add two integers or strings?\n",
        "\n",
        "#Yes it can\n",
        "# Write your code below and press Shift+Enter to execute\n",
        "def con(a, b):\n",
        "    return(a + b)\n",
        "print(con(1,2))\n",
        "print(con('1','2'))\n",
        "​\n",
        "#Yes it can\n",
        "3\n",
        "12\n",
        "Click here for the solution\n",
        "Can the con function we defined before be used to concatenate lists or tuples?\n",
        "\n",
        "\n",
        "\n",
        "\n",
        "\n",
        "\n",
        "\n",
        "#Yes it can\n",
        "# Write your code below and press Shift+Enter to execute\n",
        "print(con([1,2], [1,3]))\n",
        "​\n",
        "#Yes it can\n",
        "[1, 2, 1, 3]"
      ],
      "metadata": {
        "id": "BqifD5ia-Mnc"
      }
    },
    {
      "cell_type": "code",
      "source": [
        "#Objects and classes\n",
        "\n",
        "class Circle(object):\n",
        "  def __init__(self, radius, color):\n",
        "    self.radius = radius;\n",
        "    self.color = color;\n",
        "  \n",
        "  def add_r(self, r):\n",
        "    self.radius = self.radius + r\n",
        "  \n",
        "RedCircle = Circle(10, \"red\")\n",
        "print(RedCircle)\n",
        "print(RedCircle.radius)\n",
        "print(RedCircle.color)\n",
        "\n",
        "RedCircle.add_r(1)\n",
        "print(RedCircle.radius)\n",
        "\n"
      ],
      "metadata": {
        "id": "kD-HiN9YBMuk",
        "outputId": "431e333b-26c0-4d15-f0ad-80aec6f58b54",
        "colab": {
          "base_uri": "https://localhost:8080/"
        }
      },
      "execution_count": 6,
      "outputs": [
        {
          "output_type": "stream",
          "name": "stdout",
          "text": [
            "<__main__.Circle object at 0x7fc9c08eb390>\n",
            "10\n",
            "red\n",
            "11\n"
          ]
        }
      ]
    }
  ]
}