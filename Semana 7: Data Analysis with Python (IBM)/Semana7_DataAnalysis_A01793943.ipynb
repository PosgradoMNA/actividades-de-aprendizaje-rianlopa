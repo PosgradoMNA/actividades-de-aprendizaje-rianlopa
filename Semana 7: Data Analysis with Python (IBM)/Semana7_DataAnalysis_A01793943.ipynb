{
  "nbformat": 4,
  "nbformat_minor": 0,
  "metadata": {
    "colab": {
      "provenance": [],
      "collapsed_sections": []
    },
    "kernelspec": {
      "name": "python3",
      "display_name": "Python 3"
    },
    "language_info": {
      "name": "python"
    }
  },
  "cells": [
    {
      "cell_type": "code",
      "execution_count": 8,
      "metadata": {
        "id": "FpIE7lihDnox"
      },
      "outputs": [],
      "source": [
        "#Model development\n",
        "\n",
        "#A model or estimator can be thought of as a mathematical equation used to predict a\n",
        "#value given one or more other values.\n",
        "\n",
        "#Simple linear regression and multiple linear regression\n",
        "\n",
        "#Linear Regression will refer to one independent variable to make a prediction.\n",
        "#Multiple Linear Regression will refer to multiple independent variables to make a prediction.\n",
        "\n",
        "from sklearn.linear_model import LinearRegression\n",
        "import pandas as pd\n",
        "import numpy as np\n",
        "\n",
        "url = '/content/imports-85.data'\n",
        "df = pd.read_csv(url, header= None)\n",
        "headers=[\"symboling\",\"normalized-losses\",\"make\",\"fuel-type\",\"aspiration\",\"num-of-doors\",\"body-style\",\"drive-wheels\",\"engine-location\",\"wheel-base\",\"length\",\"width\",\"height\",\"curb-weight\",\"engine-type\",\"num-of-cylinders\",\"engine-size\",\"fuel-system\",\"bore\",\"stroke\",\"compression-ratio\",\"horsepower\",\"peak-rpm\",\"city-mpg\",\"highway-mpg\",\"price\"]\n",
        "df.columns = headers\n",
        "\n",
        "df[\"highway-mpg\"] = pd.to_numeric(df[\"highway-mpg\"], errors='coerce')\n",
        "df[\"price\"] = pd.to_numeric(df[\"price\"], errors='coerce')\n",
        "\n",
        "mean = df[\"highway-mpg\"].mean()\n",
        "df = df.replace(np.nan, mean)\n",
        "mean2 = df[\"price\"].mean()\n",
        "df = df.replace(np.nan, mean2)"
      ]
    },
    {
      "cell_type": "code",
      "source": [
        "lm = LinearRegression()\n",
        "\n",
        "x = df[['highway-mpg']]\n",
        "y = df['price']\n",
        "\n",
        "lm.fit(x,y)\n",
        "\n",
        "Yhat = lm.predict(x)\n",
        "\n",
        "lm.intercept_"
      ],
      "metadata": {
        "colab": {
          "base_uri": "https://localhost:8080/"
        },
        "id": "yXuZe5uMGujR",
        "outputId": "6231238d-4d6e-4c8b-9b7d-f536c5089dfb"
      },
      "execution_count": 9,
      "outputs": [
        {
          "output_type": "execute_result",
          "data": {
            "text/plain": [
              "37757.83541593568"
            ]
          },
          "metadata": {},
          "execution_count": 9
        }
      ]
    },
    {
      "cell_type": "code",
      "source": [
        "lm.coef_"
      ],
      "metadata": {
        "colab": {
          "base_uri": "https://localhost:8080/"
        },
        "id": "RF3SqxlZHOJE",
        "outputId": "c2bf5182-1abf-46d6-c29b-2c03ba54223c"
      },
      "execution_count": 10,
      "outputs": [
        {
          "output_type": "execute_result",
          "data": {
            "text/plain": [
              "array([-806.72592884])"
            ]
          },
          "metadata": {},
          "execution_count": 10
        }
      ]
    },
    {
      "cell_type": "code",
      "source": [
        "df['curb-weight'].head()"
      ],
      "metadata": {
        "colab": {
          "base_uri": "https://localhost:8080/"
        },
        "id": "GK0NdTVvIqoC",
        "outputId": "e4bcacb1-eadb-4e44-ac03-9c080725df8a"
      },
      "execution_count": 14,
      "outputs": [
        {
          "output_type": "execute_result",
          "data": {
            "text/plain": [
              "0    2548\n",
              "1    2548\n",
              "2    2823\n",
              "3    2337\n",
              "4    2824\n",
              "Name: curb-weight, dtype: int64"
            ]
          },
          "metadata": {},
          "execution_count": 14
        }
      ]
    },
    {
      "cell_type": "code",
      "source": [
        "#Multiple linear Regression\n",
        "\n",
        "df[\"horsepower\"] = pd.to_numeric(df[\"horsepower\"], errors='coerce')\n",
        "df[\"curb-weight\"] = pd.to_numeric(df[\"curb-weight\"], errors='coerce')\n",
        "df[\"engine-size\"] = pd.to_numeric(df[\"engine-size\"], errors='coerce')\n",
        "\n",
        "mean = df[\"horsepower\"].mean()\n",
        "df = df.replace(np.nan, mean)\n",
        "mean2 = df[\"curb-weight\"].mean()\n",
        "df = df.replace(np.nan, mean2)\n",
        "mean3 = df[\"engine-size\"].mean()\n",
        "df = df.replace(np.nan, mean3)\n",
        "\n",
        "z = df[['horsepower', 'curb-weight', 'engine-size', 'highway-mpg']]\n",
        "\n",
        "lm.fit(z, df['price'])\n",
        "\n",
        "Yhat = lm.predict(z)"
      ],
      "metadata": {
        "id": "OVeL7SwFHsba"
      },
      "execution_count": 16,
      "outputs": []
    },
    {
      "cell_type": "code",
      "source": [
        "lm.coef_"
      ],
      "metadata": {
        "colab": {
          "base_uri": "https://localhost:8080/"
        },
        "id": "W-IXrOkBIibr",
        "outputId": "cd2ce0fb-fc0d-477f-ee14-76bea63b6976"
      },
      "execution_count": 17,
      "outputs": [
        {
          "output_type": "execute_result",
          "data": {
            "text/plain": [
              "array([ -15.70866545,    2.97222261,  120.11384244, -204.93790457])"
            ]
          },
          "metadata": {},
          "execution_count": 17
        }
      ]
    },
    {
      "cell_type": "code",
      "source": [
        "lm.intercept_"
      ],
      "metadata": {
        "colab": {
          "base_uri": "https://localhost:8080/"
        },
        "id": "co13Z6DsJSxa",
        "outputId": "6a0837a7-1797-480b-cf02-85832d4f82cf"
      },
      "execution_count": 18,
      "outputs": [
        {
          "output_type": "execute_result",
          "data": {
            "text/plain": [
              "-1949.1912037385446"
            ]
          },
          "metadata": {},
          "execution_count": 18
        }
      ]
    },
    {
      "cell_type": "code",
      "source": [
        "#Model evaluation using visualization\n",
        "\n",
        "import seaborn as sns\n",
        "from matplotlib import pyplot as plt\n",
        "\n",
        "sns.regplot(x=\"highway-mpg\", y=\"price\", data=df)\n",
        "plt.ylim(0,)\n",
        "\n"
      ],
      "metadata": {
        "colab": {
          "base_uri": "https://localhost:8080/",
          "height": 296
        },
        "id": "uY8h7AqfJU3H",
        "outputId": "87b265cc-9b56-4572-c9b4-eb546d171f1a"
      },
      "execution_count": 20,
      "outputs": [
        {
          "output_type": "execute_result",
          "data": {
            "text/plain": [
              "(0.0, 48164.034381600606)"
            ]
          },
          "metadata": {},
          "execution_count": 20
        },
        {
          "output_type": "display_data",
          "data": {
            "text/plain": [
              "<Figure size 432x288 with 1 Axes>"
            ],
            "image/png": "[encoded data removed]"
          },
          "metadata": {
            "needs_background": "light"
          }
        }
      ]
    },
    {
      "cell_type": "code",
      "source": [
        "sns.residplot(df['highway-mpg'], df['price'])"
      ],
      "metadata": {
        "colab": {
          "base_uri": "https://localhost:8080/",
          "height": 351
        },
        "id": "hupjSWsVKB1p",
        "outputId": "14a9a174-818d-4732-a076-490b1e33cc22"
      },
      "execution_count": 21,
      "outputs": [
        {
          "output_type": "stream",
          "name": "stderr",
          "text": [
            "/usr/local/lib/python3.7/dist-packages/seaborn/_decorators.py:43: FutureWarning: Pass the following variables as keyword args: x, y. From version 0.12, the only valid positional argument will be `data`, and passing other arguments without an explicit keyword will result in an error or misinterpretation.\n",
            "  FutureWarning\n"
          ]
        },
        {
          "output_type": "execute_result",
          "data": {
            "text/plain": [
              "<matplotlib.axes._subplots.AxesSubplot at 0x7fd53f76a350>"
            ]
          },
          "metadata": {},
          "execution_count": 21
        },
        {
          "output_type": "display_data",
          "data": {
            "text/plain": [
              "<Figure size 432x288 with 1 Axes>"
            ],
            "image/png": "[encoded data removed]"
          },
          "metadata": {
            "needs_background": "light"
          }
        }
      ]
    },
    {
      "cell_type": "code",
      "source": [
        "ax1 = sns.distplot(df['price'], hist=False, color=\"r\", label=\"Actual Value\")\n",
        "\n",
        "sns.distplot(Yhat, hist=False, color=\"b\", label=\"Fitted Values\", ax=ax1)"
      ],
      "metadata": {
        "colab": {
          "base_uri": "https://localhost:8080/",
          "height": 397
        },
        "id": "2NQOI12FKdlk",
        "outputId": "dd461580-6771-4ca4-b498-865605d4e88d"
      },
      "execution_count": 22,
      "outputs": [
        {
          "output_type": "stream",
          "name": "stderr",
          "text": [
            "/usr/local/lib/python3.7/dist-packages/seaborn/distributions.py:2619: FutureWarning: `distplot` is a deprecated function and will be removed in a future version. Please adapt your code to use either `displot` (a figure-level function with similar flexibility) or `kdeplot` (an axes-level function for kernel density plots).\n",
            "  warnings.warn(msg, FutureWarning)\n",
            "/usr/local/lib/python3.7/dist-packages/seaborn/distributions.py:2619: FutureWarning: `distplot` is a deprecated function and will be removed in a future version. Please adapt your code to use either `displot` (a figure-level function with similar flexibility) or `kdeplot` (an axes-level function for kernel density plots).\n",
            "  warnings.warn(msg, FutureWarning)\n"
          ]
        },
        {
          "output_type": "execute_result",
          "data": {
            "text/plain": [
              "<matplotlib.axes._subplots.AxesSubplot at 0x7fd53f198190>"
            ]
          },
          "metadata": {},
          "execution_count": 22
        },
        {
          "output_type": "display_data",
          "data": {
            "text/plain": [
              "<Figure size 432x288 with 1 Axes>"
            ],
            "image/png": "[encoded data removed]"
          },
          "metadata": {
            "needs_background": "light"
          }
        }
      ]
    },
    {
      "cell_type": "code",
      "source": [
        "#Polynomial regression with more than one dimension\n",
        "\n",
        "x1 = df['highway-mpg']\n",
        "\n",
        "f = np.polyfit(x1,y,3)\n",
        "p = np.poly1d(f)\n",
        "\n",
        "print(p)"
      ],
      "metadata": {
        "colab": {
          "base_uri": "https://localhost:8080/"
        },
        "id": "9vSEN5_NLCaC",
        "outputId": "7c69ae41-1a71-4a0c-a7a5-2146741a653f"
      },
      "execution_count": 30,
      "outputs": [
        {
          "output_type": "stream",
          "name": "stdout",
          "text": [
            "        3         2\n",
            "-1.499 x + 196.9 x - 8641 x + 1.335e+05\n"
          ]
        }
      ]
    },
    {
      "cell_type": "code",
      "source": [
        "from sklearn.preprocessing import StandardScaler\n",
        "\n",
        "SCALE = StandardScaler()\n",
        "SCALE.fit(df[['horsepower', 'highway-mpg']])\n",
        "\n",
        "x_scale = SCALE.transform(df[['horsepower', 'highway-mpg']])\n",
        "\n",
        "x_scale"
      ],
      "metadata": {
        "colab": {
          "base_uri": "https://localhost:8080/"
        },
        "id": "Xkqf6AvWLrBi",
        "outputId": "04077a90-5e55-424c-baaf-685ebad793e4"
      },
      "execution_count": 37,
      "outputs": [
        {
          "output_type": "execute_result",
          "data": {
            "text/plain": [
              "array([[ 1.71064933e-01, -5.46058737e-01],\n",
              "       [ 1.71064933e-01, -5.46058737e-01],\n",
              "       [ 1.26180693e+00, -6.91627061e-01],\n",
              "       [-5.72299045e-02, -1.09353765e-01],\n",
              "       [ 2.72529305e-01, -1.27390036e+00],\n",
              "       [ 1.45698840e-01, -8.37195385e-01],\n",
              "       [ 1.45698840e-01, -8.37195385e-01],\n",
              "       [ 1.45698840e-01, -8.37195385e-01],\n",
              "       [ 9.06681632e-01, -1.56503700e+00],\n",
              "       [ 1.41400349e+00, -1.27390036e+00],\n",
              "       [-8.25959976e-02, -2.54922089e-01],\n",
              "       [-8.25959976e-02, -2.54922089e-01],\n",
              "       [ 4.24725864e-01, -4.00490413e-01],\n",
              "       [ 4.24725864e-01, -4.00490413e-01],\n",
              "       [ 4.24725864e-01, -8.37195385e-01],\n",
              "       [ 1.97205754e+00, -1.27390036e+00],\n",
              "       [ 1.97205754e+00, -1.27390036e+00],\n",
              "       [ 1.97205754e+00, -1.56503700e+00],\n",
              "       [-1.42699893e+00,  3.23871768e+00],\n",
              "       [-8.68944883e-01,  1.78303445e+00],\n",
              "       [-8.68944883e-01,  1.78303445e+00],\n",
              "       [-9.19677069e-01,  1.49189780e+00],\n",
              "       [-9.19677069e-01,  1.05519283e+00],\n",
              "       [-5.72299045e-02, -1.09353765e-01],\n",
              "       [-9.19677069e-01,  1.05519283e+00],\n",
              "       [-9.19677069e-01,  1.05519283e+00],\n",
              "       [-9.19677069e-01,  1.05519283e+00],\n",
              "       [-5.72299045e-02, -1.09353765e-01],\n",
              "       [-4.12355207e-01, -1.09353765e-01],\n",
              "       [ 1.03351210e+00, -9.82763709e-01],\n",
              "       [-1.17333800e+00,  3.38428601e+00],\n",
              "       [-7.16748324e-01,  1.05519283e+00],\n",
              "       [-1.12260581e+00,  1.63746612e+00],\n",
              "       [-7.16748324e-01,  4.72919530e-01],\n",
              "       [-7.16748324e-01,  4.72919530e-01],\n",
              "       [-7.16748324e-01,  4.72919530e-01],\n",
              "       [-7.16748324e-01,  4.72919530e-01],\n",
              "       [-4.63087394e-01,  3.27351206e-01],\n",
              "       [-4.63087394e-01,  3.27351206e-01],\n",
              "       [-4.63087394e-01,  3.27351206e-01],\n",
              "       [-4.63087394e-01,  3.27351206e-01],\n",
              "       [-8.25959976e-02, -4.00490413e-01],\n",
              "       [-1.07962091e-01,  3.62145586e-02],\n",
              "       [-6.66016138e-01, -2.54922089e-01],\n",
              "       [-8.68944883e-01,  1.78303445e+00],\n",
              "       [-8.68944883e-01,  1.78303445e+00],\n",
              "       [-3.61623021e-01, -2.54922089e-01],\n",
              "       [ 1.81986098e+00, -1.71060533e+00],\n",
              "       [ 1.81986098e+00, -1.71060533e+00],\n",
              "       [ 4.00134499e+00, -2.00174198e+00],\n",
              "       [-9.19677069e-01,  3.62145586e-02],\n",
              "       [-9.19677069e-01,  1.05519283e+00],\n",
              "       [-9.19677069e-01,  1.05519283e+00],\n",
              "       [-9.19677069e-01,  1.05519283e+00],\n",
              "       [-9.19677069e-01,  1.05519283e+00],\n",
              "       [-8.25959976e-02, -1.12833203e+00],\n",
              "       [-8.25959976e-02, -1.12833203e+00],\n",
              "       [-8.25959976e-02, -1.12833203e+00],\n",
              "       [ 7.79851167e-01, -1.12833203e+00],\n",
              "       [-5.13819580e-01,  1.81782883e-01],\n",
              "       [-5.13819580e-01,  1.81782883e-01],\n",
              "       [-5.13819580e-01,  1.81782883e-01],\n",
              "       [-5.13819580e-01,  1.81782883e-01],\n",
              "       [-1.02114144e+00,  1.63746612e+00],\n",
              "       [-5.13819580e-01,  1.81782883e-01],\n",
              "       [ 3.99359771e-01, -5.46058737e-01],\n",
              "       [-8.18212696e-01,  1.20076115e+00],\n",
              "       [ 4.75458050e-01, -8.37195385e-01],\n",
              "       [ 4.75458050e-01, -8.37195385e-01],\n",
              "       [ 4.75458050e-01, -8.37195385e-01],\n",
              "       [ 4.75458050e-01, -8.37195385e-01],\n",
              "       [ 1.28717303e+00, -1.85617365e+00],\n",
              "       [ 1.28717303e+00, -1.85617365e+00],\n",
              "       [ 2.02278973e+00, -2.14731030e+00],\n",
              "       [ 2.02278973e+00, -2.14731030e+00],\n",
              "       [ 1.79449489e+00, -9.82763709e-01],\n",
              "       [-9.19677069e-01,  1.49189780e+00],\n",
              "       [-9.19677069e-01,  1.05519283e+00],\n",
              "       [-9.19677069e-01,  1.05519283e+00],\n",
              "       [-5.72299045e-02, -1.09353765e-01],\n",
              "       [ 2.97895398e-01, -1.09353765e-01],\n",
              "       [-4.12355207e-01,  1.81782883e-01],\n",
              "       [ 1.03351210e+00, -9.82763709e-01],\n",
              "       [ 1.03351210e+00, -9.82763709e-01],\n",
              "       [ 1.03351210e+00, -9.82763709e-01],\n",
              "       [-4.12355207e-01,  1.81782883e-01],\n",
              "       [-4.12355207e-01,  1.81782883e-01],\n",
              "       [ 2.97895398e-01, -1.09353765e-01],\n",
              "       [ 2.97895398e-01, -1.09353765e-01],\n",
              "       [-8.94310976e-01,  9.09624502e-01],\n",
              "       [-1.24943628e+00,  2.80201271e+00],\n",
              "       [-8.94310976e-01,  9.09624502e-01],\n",
              "       [-8.94310976e-01,  9.09624502e-01],\n",
              "       [-8.94310976e-01,  9.09624502e-01],\n",
              "       [-8.94310976e-01,  9.09624502e-01],\n",
              "       [-8.94310976e-01,  9.09624502e-01],\n",
              "       [-8.94310976e-01,  9.09624502e-01],\n",
              "       [-8.94310976e-01,  9.09624502e-01],\n",
              "       [-8.94310976e-01,  9.09624502e-01],\n",
              "       [-1.84060370e-01,  4.72919530e-01],\n",
              "       [-1.84060370e-01,  4.72919530e-01],\n",
              "       [ 1.21107475e+00, -1.27390036e+00],\n",
              "       [ 1.21107475e+00, -1.27390036e+00],\n",
              "       [ 1.21107475e+00, -8.37195385e-01],\n",
              "       [ 1.41400349e+00, -8.37195385e-01],\n",
              "       [ 2.42864722e+00, -1.12833203e+00],\n",
              "       [ 1.41400349e+00, -8.37195385e-01],\n",
              "       [-1.84060370e-01, -9.82763709e-01],\n",
              "       [-2.34792556e-01,  3.27351206e-01],\n",
              "       [-1.84060370e-01, -9.82763709e-01],\n",
              "       [-2.34792556e-01, -8.37195385e-01],\n",
              "       [-2.34792556e-01, -9.82763709e-01],\n",
              "       [-2.34792556e-01,  3.27351206e-01],\n",
              "       [-2.34792556e-01, -9.82763709e-01],\n",
              "       [-2.34792556e-01, -8.37195385e-01],\n",
              "       [-1.84060370e-01, -9.82763709e-01],\n",
              "       [-2.34792556e-01,  3.27351206e-01],\n",
              "       [ 9.57413818e-01, -9.82763709e-01],\n",
              "       [-9.19677069e-01,  1.49189780e+00],\n",
              "       [-5.72299045e-02, -1.09353765e-01],\n",
              "       [-9.19677069e-01,  1.05519283e+00],\n",
              "       [-9.19677069e-01,  1.05519283e+00],\n",
              "       [-9.19677069e-01,  1.05519283e+00],\n",
              "       [-4.12355207e-01, -1.09353765e-01],\n",
              "       [ 1.03351210e+00, -9.82763709e-01],\n",
              "       [ 9.82779911e-01, -5.46058737e-01],\n",
              "       [ 2.60620987e+00, -8.37195385e-01],\n",
              "       [ 2.60620987e+00, -8.37195385e-01],\n",
              "       [ 2.60620987e+00, -8.37195385e-01],\n",
              "       [ 4.66086341e+00, -4.00490413e-01],\n",
              "       [ 3.60473863e-16,  3.62145586e-02],\n",
              "       [ 3.60473863e-16,  3.62145586e-02],\n",
              "       [ 1.45698840e-01, -4.00490413e-01],\n",
              "       [ 1.45698840e-01, -4.00490413e-01],\n",
              "       [ 1.45698840e-01, -4.00490413e-01],\n",
              "       [ 1.45698840e-01, -4.00490413e-01],\n",
              "       [ 1.41400349e+00, -6.91627061e-01],\n",
              "       [ 1.41400349e+00, -6.91627061e-01],\n",
              "       [-8.94310976e-01,  7.64056178e-01],\n",
              "       [-7.92846603e-01,  3.62145586e-02],\n",
              "       [-7.92846603e-01,  3.62145586e-02],\n",
              "       [-5.64551766e-01,  9.09624502e-01],\n",
              "       [-5.64551766e-01,  3.27351206e-01],\n",
              "       [-2.60158649e-01,  1.81782883e-01],\n",
              "       [-5.64551766e-01, -8.37195385e-01],\n",
              "       [ 1.71064933e-01, -2.54922089e-01],\n",
              "       [-5.64551766e-01,  1.81782883e-01],\n",
              "       [-2.60158649e-01,  3.62145586e-02],\n",
              "       [-5.64551766e-01, -2.54922089e-01],\n",
              "       [ 1.71064933e-01, -1.12833203e+00],\n",
              "       [-1.07187363e+00,  1.20076115e+00],\n",
              "       [-1.07187363e+00,  1.05519283e+00],\n",
              "       [-1.07187363e+00,  1.05519283e+00],\n",
              "       [-1.07187363e+00,  9.09624502e-01],\n",
              "       [-1.07187363e+00,  1.81782883e-01],\n",
              "       [-1.07187363e+00,  1.81782883e-01],\n",
              "       [-8.68944883e-01,  9.09624502e-01],\n",
              "       [-8.68944883e-01,  9.09624502e-01],\n",
              "       [-1.22407019e+00,  7.64056178e-01],\n",
              "       [-1.22407019e+00,  2.36530774e+00],\n",
              "       [-8.68944883e-01,  2.36530774e+00],\n",
              "       [-8.68944883e-01,  4.72919530e-01],\n",
              "       [-8.68944883e-01,  4.72919530e-01],\n",
              "       [-8.68944883e-01,  4.72919530e-01],\n",
              "       [-8.68944883e-01,  4.72919530e-01],\n",
              "       [ 1.96431026e-01, -2.54922089e-01],\n",
              "       [ 1.96431026e-01, -2.54922089e-01],\n",
              "       [ 2.97895398e-01, -1.09353765e-01],\n",
              "       [ 2.97895398e-01, -1.09353765e-01],\n",
              "       [ 2.97895398e-01, -1.09353765e-01],\n",
              "       [ 2.97895398e-01, -1.09353765e-01],\n",
              "       [ 2.97895398e-01, -1.09353765e-01],\n",
              "       [ 2.97895398e-01, -1.09353765e-01],\n",
              "       [-3.10890835e-01,  4.72919530e-01],\n",
              "       [-7.92846603e-01,  3.27351206e-01],\n",
              "       [-3.10890835e-01,  1.81782883e-01],\n",
              "       [-3.10890835e-01,  1.81782883e-01],\n",
              "       [-3.10890835e-01,  1.81782883e-01],\n",
              "       [ 1.43936959e+00, -9.82763709e-01],\n",
              "       [ 1.43936959e+00, -9.82763709e-01],\n",
              "       [ 1.31253912e+00, -9.82763709e-01],\n",
              "       [ 1.31253912e+00, -9.82763709e-01],\n",
              "       [-1.32553456e+00,  2.21973942e+00],\n",
              "       [-4.88453487e-01,  4.72919530e-01],\n",
              "       [-1.32553456e+00,  2.21973942e+00],\n",
              "       [-4.88453487e-01,  4.72919530e-01],\n",
              "       [-4.88453487e-01,  4.72919530e-01],\n",
              "       [-9.19677069e-01,  1.63746612e+00],\n",
              "       [-1.07962091e-01,  1.81782883e-01],\n",
              "       [-3.61623021e-01, -2.54922089e-01],\n",
              "       [-3.61623021e-01, -2.54922089e-01],\n",
              "       [ 1.45698840e-01, -9.82763709e-01],\n",
              "       [-9.19677069e-01,  1.05519283e+00],\n",
              "       [-4.12355207e-01,  3.62145586e-02],\n",
              "       [ 2.47163212e-01, -4.00490413e-01],\n",
              "       [ 2.47163212e-01, -4.00490413e-01],\n",
              "       [ 2.47163212e-01, -4.00490413e-01],\n",
              "       [ 2.47163212e-01, -4.00490413e-01],\n",
              "       [ 1.46473568e+00, -1.27390036e+00],\n",
              "       [ 1.46473568e+00, -1.27390036e+00],\n",
              "       [ 2.47163212e-01, -4.00490413e-01],\n",
              "       [ 1.41400349e+00, -8.37195385e-01],\n",
              "       [ 7.54485073e-01, -1.12833203e+00],\n",
              "       [ 4.42344677e-02, -5.46058737e-01],\n",
              "       [ 2.47163212e-01, -8.37195385e-01]])"
            ]
          },
          "metadata": {},
          "execution_count": 37
        }
      ]
    },
    {
      "cell_type": "code",
      "source": [
        "#Pipeline constructor\n",
        "from sklearn.preprocessing import PolynomialFeatures\n",
        "\n",
        "Input = [('scale', StandardScaler()), ('polynomial', PolynomialFeatures(degree=2)), ('model', LinearRegression())]\n",
        "Input"
      ],
      "metadata": {
        "colab": {
          "base_uri": "https://localhost:8080/"
        },
        "id": "8Pi_9JlCOEnX",
        "outputId": "a79e1d8c-01bd-4e73-f1eb-9fdfbebaad64"
      },
      "execution_count": 38,
      "outputs": [
        {
          "output_type": "execute_result",
          "data": {
            "text/plain": [
              "[('scale', StandardScaler()),\n",
              " ('polynomial', PolynomialFeatures()),\n",
              " ('model', LinearRegression())]"
            ]
          },
          "metadata": {},
          "execution_count": 38
        }
      ]
    },
    {
      "cell_type": "code",
      "source": [
        "#Measures for in sample evaluation\n",
        "\n",
        "from sklearn.metrics import mean_squared_error\n",
        "lm.fit(x,y)\n",
        "Yhat = lm.predict(x)\n",
        "mean_squared_error(df['price'], Yhat)"
      ],
      "metadata": {
        "colab": {
          "base_uri": "https://localhost:8080/"
        },
        "id": "ytH0s9AcPNpu",
        "outputId": "ee3badb9-9015-4e46-aa34-567ba0a0e00f"
      },
      "execution_count": 44,
      "outputs": [
        {
          "output_type": "execute_result",
          "data": {
            "text/plain": [
              "34224304.54573701"
            ]
          },
          "metadata": {},
          "execution_count": 44
        }
      ]
    },
    {
      "cell_type": "code",
      "source": [
        "#R-squared/R2\n",
        "x = df[['highway-mpg']]\n",
        "y = df['price']\n",
        "lm.score(x,y)"
      ],
      "metadata": {
        "colab": {
          "base_uri": "https://localhost:8080/"
        },
        "id": "jGdHLaOzP27k",
        "outputId": "32b36978-f1a9-40f4-d17b-96fe21ceb801"
      },
      "execution_count": 46,
      "outputs": [
        {
          "output_type": "execute_result",
          "data": {
            "text/plain": [
              "0.4729616081984709"
            ]
          },
          "metadata": {},
          "execution_count": 46
        }
      ]
    },
    {
      "cell_type": "code",
      "source": [
        "#Prediction and decision making\n",
        "arr = [[30], [0]]\n",
        "lm.predict(arr)"
      ],
      "metadata": {
        "colab": {
          "base_uri": "https://localhost:8080/"
        },
        "id": "K8Y1oJ8TQuei",
        "outputId": "4fd0d253-1411-4bce-937f-4fb39562e2e2"
      },
      "execution_count": 59,
      "outputs": [
        {
          "output_type": "execute_result",
          "data": {
            "text/plain": [
              "array([13556.05755082, 37757.83541594])"
            ]
          },
          "metadata": {},
          "execution_count": 59
        }
      ]
    },
    {
      "cell_type": "code",
      "source": [
        "lm.coef_"
      ],
      "metadata": {
        "colab": {
          "base_uri": "https://localhost:8080/"
        },
        "id": "YDNpvYFpRRk9",
        "outputId": "8686cb52-dc83-444a-c11d-8b19d834f4a2"
      },
      "execution_count": 60,
      "outputs": [
        {
          "output_type": "execute_result",
          "data": {
            "text/plain": [
              "array([-806.72592884])"
            ]
          },
          "metadata": {},
          "execution_count": 60
        }
      ]
    },
    {
      "cell_type": "code",
      "source": [
        "import numpy as np\n",
        "\n",
        "new_input = np.arange(1,101,1).reshape(-1,1)"
      ],
      "metadata": {
        "id": "XwS_JSm8Sj47"
      },
      "execution_count": 62,
      "outputs": []
    },
    {
      "cell_type": "code",
      "source": [
        "yhat = lm.predict(new_input)"
      ],
      "metadata": {
        "id": "2kY1cYLMS6Wf"
      },
      "execution_count": 63,
      "outputs": []
    },
    {
      "cell_type": "code",
      "source": [
        "yhat"
      ],
      "metadata": {
        "colab": {
          "base_uri": "https://localhost:8080/"
        },
        "id": "CljBZPfZTEzL",
        "outputId": "4abcd026-747c-44f6-f851-aa82fac11419"
      },
      "execution_count": 64,
      "outputs": [
        {
          "output_type": "execute_result",
          "data": {
            "text/plain": [
              "array([ 36951.1094871 ,  36144.38355826,  35337.65762942,  34530.93170059,\n",
              "        33724.20577175,  32917.47984291,  32110.75391408,  31304.02798524,\n",
              "        30497.3020564 ,  29690.57612757,  28883.85019873,  28077.12426989,\n",
              "        27270.39834105,  26463.67241222,  25656.94648338,  24850.22055454,\n",
              "        24043.49462571,  23236.76869687,  22430.04276803,  21623.31683919,\n",
              "        20816.59091036,  20009.86498152,  19203.13905268,  18396.41312385,\n",
              "        17589.68719501,  16782.96126617,  15976.23533734,  15169.5094085 ,\n",
              "        14362.78347966,  13556.05755082,  12749.33162199,  11942.60569315,\n",
              "        11135.87976431,  10329.15383548,   9522.42790664,   8715.7019778 ,\n",
              "         7908.97604896,   7102.25012013,   6295.52419129,   5488.79826245,\n",
              "         4682.07233362,   3875.34640478,   3068.62047594,   2261.89454711,\n",
              "         1455.16861827,    648.44268943,   -158.28323941,   -965.00916824,\n",
              "        -1771.73509708,  -2578.46102592,  -3385.18695475,  -4191.91288359,\n",
              "        -4998.63881243,  -5805.36474127,  -6612.0906701 ,  -7418.81659894,\n",
              "        -8225.54252778,  -9032.26845661,  -9838.99438545, -10645.72031429,\n",
              "       -11452.44624312, -12259.17217196, -13065.8981008 , -13872.62402964,\n",
              "       -14679.34995847, -15486.07588731, -16292.80181615, -17099.52774498,\n",
              "       -17906.25367382, -18712.97960266, -19519.70553149, -20326.43146033,\n",
              "       -21133.15738917, -21939.88331801, -22746.60924684, -23553.33517568,\n",
              "       -24360.06110452, -25166.78703335, -25973.51296219, -26780.23889103,\n",
              "       -27586.96481987, -28393.6907487 , -29200.41667754, -30007.14260638,\n",
              "       -30813.86853521, -31620.59446405, -32427.32039289, -33234.04632172,\n",
              "       -34040.77225056, -34847.4981794 , -35654.22410824, -36460.95003707,\n",
              "       -37267.67596591, -38074.40189475, -38881.12782358, -39687.85375242,\n",
              "       -40494.57968126, -41301.3056101 , -42108.03153893, -42914.75746777])"
            ]
          },
          "metadata": {},
          "execution_count": 64
        }
      ]
    },
    {
      "cell_type": "code",
      "source": [
        "ax1 = sns.distplot(df['price'], hist=False, color=\"r\", label=\"Actual Value\")\n",
        "\n",
        "sns.distplot(Yhat, hist=False, color=\"b\", label=\"Fitted Values\", ax=ax1)"
      ],
      "metadata": {
        "colab": {
          "base_uri": "https://localhost:8080/",
          "height": 397
        },
        "id": "S74o34SiTFlz",
        "outputId": "71b6bced-049e-4d3a-b098-27e2d1d554eb"
      },
      "execution_count": 65,
      "outputs": [
        {
          "output_type": "stream",
          "name": "stderr",
          "text": [
            "/usr/local/lib/python3.7/dist-packages/seaborn/distributions.py:2619: FutureWarning: `distplot` is a deprecated function and will be removed in a future version. Please adapt your code to use either `displot` (a figure-level function with similar flexibility) or `kdeplot` (an axes-level function for kernel density plots).\n",
            "  warnings.warn(msg, FutureWarning)\n",
            "/usr/local/lib/python3.7/dist-packages/seaborn/distributions.py:2619: FutureWarning: `distplot` is a deprecated function and will be removed in a future version. Please adapt your code to use either `displot` (a figure-level function with similar flexibility) or `kdeplot` (an axes-level function for kernel density plots).\n",
            "  warnings.warn(msg, FutureWarning)\n"
          ]
        },
        {
          "output_type": "execute_result",
          "data": {
            "text/plain": [
              "<matplotlib.axes._subplots.AxesSubplot at 0x7fd53ee715d0>"
            ]
          },
          "metadata": {},
          "execution_count": 65
        },
        {
          "output_type": "display_data",
          "data": {
            "text/plain": [
              "<Figure size 432x288 with 1 Axes>"
            ],
            "image/png": "[encoded data removed]"
          },
          "metadata": {
            "needs_background": "light"
          }
        }
      ]
    },
    {
      "cell_type": "code",
      "source": [],
      "metadata": {
        "id": "rIQ-FvwlTIxF"
      },
      "execution_count": null,
      "outputs": []
    }
  ]
}