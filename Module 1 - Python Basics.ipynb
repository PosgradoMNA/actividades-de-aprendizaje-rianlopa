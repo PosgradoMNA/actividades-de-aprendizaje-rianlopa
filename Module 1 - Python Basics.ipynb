{
  "nbformat": 4,
  "nbformat_minor": 0,
  "metadata": {
    "colab": {
      "name": "assignment01.ipynb",
      "provenance": []
    },
    "kernelspec": {
      "name": "python3",
      "display_name": "Python 3"
    },
    "language_info": {
      "name": "python"
    }
  },
  "cells": [
    {
      "cell_type": "code",
      "execution_count": null,
      "metadata": {
        "id": "LzUSMM79NR9P",
        "outputId": "0e6cb421-1096-426a-b31a-f61d059def81",
        "colab": {
          "base_uri": "https://localhost:8080/"
        }
      },
      "outputs": [
        {
          "output_type": "stream",
          "name": "stdout",
          "text": [
            "assignment01 for GitJobish03 and edited in git, and 18\n"
          ]
        }
      ],
      "source": [
        "print('assignment01 for GitJobish03 and edited in git, and 18')"
      ]
    },
    {
      "cell_type": "code",
      "source": [
        "#This is a comment\n",
        "\n",
        "print(\"Hello Python 101\")"
      ],
      "metadata": {
        "id": "mxM_WppZPMFx",
        "colab": {
          "base_uri": "https://localhost:8080/"
        },
        "outputId": "f3b1c678-7d8d-4bbf-d205-00462086acea"
      },
      "execution_count": 1,
      "outputs": [
        {
          "output_type": "stream",
          "name": "stdout",
          "text": [
            "Hello Python 101\n"
          ]
        }
      ]
    },
    {
      "cell_type": "code",
      "source": [
        "integer = 11\n",
        "floatNumber = 23.22\n",
        "sentence = \"Hello python\"\n",
        "\n",
        "print(type(integer))\n",
        "print(type(floatNumber))\n",
        "print(type(sentence))\n",
        "print(type(True))"
      ],
      "metadata": {
        "colab": {
          "base_uri": "https://localhost:8080/"
        },
        "id": "LSvyiquYPG5G",
        "outputId": "eb642546-4ea3-4e14-ef6b-0b42e2bfb934"
      },
      "execution_count": 9,
      "outputs": [
        {
          "output_type": "stream",
          "name": "stdout",
          "text": [
            "<class 'int'>\n",
            "<class 'float'>\n",
            "<class 'str'>\n",
            "<class 'bool'>\n"
          ]
        }
      ]
    },
    {
      "cell_type": "code",
      "source": [
        "print(int(1.1))\n",
        "print(float(2))\n",
        "print(str(234))"
      ],
      "metadata": {
        "colab": {
          "base_uri": "https://localhost:8080/"
        },
        "id": "sEqjUF-8PrTu",
        "outputId": "3d97d008-8e6d-4e54-f198-38a4b9cbb1f9"
      },
      "execution_count": 8,
      "outputs": [
        {
          "output_type": "stream",
          "name": "stdout",
          "text": [
            "1\n",
            "2.0\n",
            "234\n"
          ]
        }
      ]
    },
    {
      "cell_type": "code",
      "source": [
        "#Expressions\n",
        "\n",
        "print(1+2+3+4+5+6)\n",
        "print(25/6)\n",
        "print(25//6)\n",
        "print(2*60+30)\n",
        "print(30+2*60)\n",
        "\n",
        "#Variables\n",
        "\n",
        "my_variable = 1\n",
        "print(my_variable)\n",
        "my_variable = 1000\n",
        "print(my_variable)\n",
        "\n",
        "x = 10 \n",
        "y = x/60\n",
        "\n",
        "print(y)\n",
        "\n",
        "\n",
        "total_min = 43 + 42 + 57\n",
        "total_hr = total_min / 60\n",
        "\n",
        "print(total_hr)"
      ],
      "metadata": {
        "colab": {
          "base_uri": "https://localhost:8080/"
        },
        "id": "LFYvNpS1P6Xh",
        "outputId": "87284356-2db1-45ee-e8b8-2f3a3f986cb3"
      },
      "execution_count": 18,
      "outputs": [
        {
          "output_type": "stream",
          "name": "stdout",
          "text": [
            "21\n",
            "4.166666666666667\n",
            "4\n",
            "150\n",
            "150\n",
            "1\n",
            "1000\n",
            "0.16666666666666666\n",
            "2.3666666666666667\n"
          ]
        }
      ]
    },
    {
      "cell_type": "code",
      "source": [
        "#Strings\n",
        "\n",
        "name = \"Michael Jackson\"\n",
        "\n",
        "print(name[4])\n",
        "print(name[-4])\n",
        "print(name[::2])\n",
        "print(len(name))\n",
        "\n",
        "concat = name + \"\\nIs the best\"\n",
        "\n",
        "print(concat)\n",
        "print(name.upper())\n",
        "print(concat.replace('Michael', 'Janet'))\n",
        "print(name.find('on'))"
      ],
      "metadata": {
        "colab": {
          "base_uri": "https://localhost:8080/"
        },
        "id": "rY9fm9FQYVju",
        "outputId": "80df82c2-d5d6-41d9-f71e-9d5c98d8f5d7"
      },
      "execution_count": 29,
      "outputs": [
        {
          "output_type": "stream",
          "name": "stdout",
          "text": [
            "a\n",
            "k\n",
            "McalJcsn\n",
            "15\n",
            "Michael Jackson\n",
            "Is the best\n",
            "MICHAEL JACKSON\n",
            "Janet Jackson\n",
            "Is the best\n",
            "13\n"
          ]
        }
      ]
    }
  ]
}